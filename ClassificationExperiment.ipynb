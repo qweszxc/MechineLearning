{
 "cells": [
  {
   "cell_type": "code",
   "execution_count": 89,
   "metadata": {
    "collapsed": true
   },
   "outputs": [],
   "source": [
    "from sklearn.datasets import load_svmlight_file\n",
    "import numpy as np"
   ]
  },
  {
   "cell_type": "code",
   "execution_count": 90,
   "metadata": {
    "collapsed": true
   },
   "outputs": [],
   "source": [
    "data=load_svmlight_file(r'F:\\\\机器学习实验\\\\australian_scale.txt')"
   ]
  },
  {
   "cell_type": "code",
   "execution_count": 91,
   "metadata": {
    "collapsed": true
   },
   "outputs": [],
   "source": [
    "X=data[0]\n",
    "y=data[1]"
   ]
  },
  {
   "cell_type": "code",
   "execution_count": 92,
   "metadata": {
    "collapsed": true
   },
   "outputs": [],
   "source": [
    "X=X.todense()"
   ]
  },
  {
   "cell_type": "code",
   "execution_count": 93,
   "metadata": {
    "collapsed": true
   },
   "outputs": [],
   "source": [
    "y=np.reshape(y,(690,1))\n",
    "y=np.mat(y)"
   ]
  },
  {
   "cell_type": "code",
   "execution_count": 94,
   "metadata": {
    "collapsed": true
   },
   "outputs": [],
   "source": [
    "from sklearn.model_selection import train_test_split\n",
    "X_train,X_validation,y_train,y_validation=train_test_split(X,y,test_size=0.3,random_state=47)#分割数据集"
   ]
  },
  {
   "cell_type": "code",
   "execution_count": 95,
   "metadata": {},
   "outputs": [
    {
     "data": {
      "text/plain": [
       "(483, 15)"
      ]
     },
     "execution_count": 95,
     "metadata": {},
     "output_type": "execute_result"
    }
   ],
   "source": [
    "n=X_train.shape[0]\n",
    "X_train=np.hstack((X_train,np.ones((n,1))))#在X最后一列添加一列1，让w和b合并\n",
    "X_train.shape"
   ]
  },
  {
   "cell_type": "code",
   "execution_count": 96,
   "metadata": {},
   "outputs": [
    {
     "data": {
      "text/plain": [
       "(207, 15)"
      ]
     },
     "execution_count": 96,
     "metadata": {},
     "output_type": "execute_result"
    }
   ],
   "source": [
    "n=X_validation.shape[0]\n",
    "X_validation=np.hstack((X_validation,np.ones((n,1))))\n",
    "X_validation.shape"
   ]
  },
  {
   "cell_type": "code",
   "execution_count": 113,
   "metadata": {
    "collapsed": true
   },
   "outputs": [],
   "source": [
    "def hingeloss(X,w,y):#hinge loss: w+C*sum(max(0,1-y*(x*w+b)))\n",
    "    s=0\n",
    "    for i in range(0,len(w)):\n",
    "        s=s+w[i]**2\n",
    "    for i in range(0,len(y)):\n",
    "        s+=max(0,1-y[i]*(X[i]*w))\n",
    "    return s[0,0]"
   ]
  },
  {
   "cell_type": "code",
   "execution_count": 108,
   "metadata": {
    "collapsed": true
   },
   "outputs": [],
   "source": [
    "def loss(X,w,y):#使用误差率作为loss，阈值为0\n",
    "    y_predict=X*w\n",
    "    error_rate=0\n",
    "    for i in range(0,len(y)):\n",
    "        if(y_predict[i]>=0):\n",
    "            y_predict[i]=1\n",
    "        else:\n",
    "            y_predict[i]=-1\n",
    "        if(y_predict[i]!=y[i]):\n",
    "            error_rate+=1\n",
    "    return error_rate/len(y)"
   ]
  },
  {
   "cell_type": "code",
   "execution_count": 109,
   "metadata": {
    "collapsed": true
   },
   "outputs": [],
   "source": [
    "def gradient(X,w,y):\n",
    "    (n,m)=X.shape\n",
    "    s=np.zeros((m,1))\n",
    "    w[X.shape[1]-1]=0\n",
    "    '''分类算每个样本的梯度'''\n",
    "    for j in range(0,n-1):\n",
    "        if(1-X[j]*w*y[j]>0):\n",
    "            s=s+(X[j].T*y[j])*-1\n",
    "    return s+w"
   ]
  },
  {
   "cell_type": "code",
   "execution_count": 110,
   "metadata": {
    "collapsed": true
   },
   "outputs": [],
   "source": [
    "def train(X_train,X_validation,y_train,y_validation,it,LearningRate):\n",
    "    #X维度n*m y维度n*1 n为样本数 m为特征数  X_train,y_train,X_validation,y_validation为分割后的数据集\n",
    "    w=np.ones((X_train.shape[1],1))# w初始化为1 维度m*1\n",
    "    loss_train=[]\n",
    "    loss_validation=[]\n",
    "    rate_train=[]\n",
    "    rate_validation=[]\n",
    "    time=[]\n",
    "    for i in range(0,it):#it次迭代\n",
    "        time.append(i+1)\n",
    "        gra=gradient(X_train,w,y_train)\n",
    "        w=w-LearningRate*gra\n",
    "        err_train=0\n",
    "        err_validation=0\n",
    "        train_rate=0\n",
    "        validation_rate=0\n",
    "        loss_train.append(hingeloss(X_train,w,y_train))\n",
    "        loss_validation.append(hingeloss(X_validation,w,y_validation))\n",
    "        rate_train.append(loss(X_train,w,y_train))\n",
    "        rate_validation.append(loss(X_validation,w,y_validation))\n",
    "    return time,loss_train,loss_validation,rate_train,rate_validation,w"
   ]
  },
  {
   "cell_type": "code",
   "execution_count": 121,
   "metadata": {
    "collapsed": true
   },
   "outputs": [],
   "source": [
    "time,loss_train,loss_validation,errorrate_train,errorrate_validation,w=train(X_train,X_validation,y_train,y_validation,20,0.001)"
   ]
  },
  {
   "cell_type": "code",
   "execution_count": 122,
   "metadata": {},
   "outputs": [
    {
     "data": {
      "image/png": "[encoded data removed]",
      "text/plain": [
       "<matplotlib.figure.Figure at 0xb70d5345f8>"
      ]
     },
     "metadata": {},
     "output_type": "display_data"
    }
   ],
   "source": [
    "import matplotlib.pyplot as plt\n",
    "plt.xlabel('times')\n",
    "plt.ylabel('hinge loss')\n",
    "plt.plot(time,loss_train,label='training set')\n",
    "plt.plot(time,loss_validation,label='validation set')\n",
    "plt.legend()\n",
    "plt.show()"
   ]
  },
  {
   "cell_type": "code",
   "execution_count": 123,
   "metadata": {},
   "outputs": [
    {
     "data": {
      "image/png": "[encoded data removed]",
      "text/plain": [
       "<matplotlib.figure.Figure at 0xb70c2ee080>"
      ]
     },
     "metadata": {},
     "output_type": "display_data"
    }
   ],
   "source": [
    "plt.xlabel('times')\n",
    "plt.ylabel('error rate')\n",
    "plt.plot(time,errorrate_train,label='training set')\n",
    "plt.plot(time,errorrate_validation,label='validation set')\n",
    "plt.legend()\n",
    "plt.show()"
   ]
  },
  {
   "cell_type": "code",
   "execution_count": 124,
   "metadata": {},
   "outputs": [
    {
     "data": {
      "text/plain": [
       "204.90927895880651"
      ]
     },
     "execution_count": 124,
     "metadata": {},
     "output_type": "execute_result"
    }
   ],
   "source": [
    "min(loss_train)"
   ]
  },
  {
   "cell_type": "code",
   "execution_count": 125,
   "metadata": {},
   "outputs": [
    {
     "data": {
      "text/plain": [
       "78.065188765176472"
      ]
     },
     "execution_count": 125,
     "metadata": {},
     "output_type": "execute_result"
    }
   ],
   "source": [
    "min(loss_validation)"
   ]
  },
  {
   "cell_type": "code",
   "execution_count": 126,
   "metadata": {},
   "outputs": [
    {
     "data": {
      "text/plain": [
       "0.14906832298136646"
      ]
     },
     "execution_count": 126,
     "metadata": {},
     "output_type": "execute_result"
    }
   ],
   "source": [
    "min(errorrate_train)"
   ]
  },
  {
   "cell_type": "code",
   "execution_count": 127,
   "metadata": {},
   "outputs": [
    {
     "data": {
      "text/plain": [
       "0.11594202898550725"
      ]
     },
     "execution_count": 127,
     "metadata": {},
     "output_type": "execute_result"
    }
   ],
   "source": [
    "min(errorrate_validation)"
   ]
  },
  {
   "cell_type": "code",
   "execution_count": null,
   "metadata": {
    "collapsed": true
   },
   "outputs": [],
   "source": []
  }
 ],
 "metadata": {
  "kernelspec": {
   "display_name": "Python 3",
   "language": "python",
   "name": "python3"
  },
  "language_info": {
   "codemirror_mode": {
    "name": "ipython",
    "version": 3
   },
   "file_extension": ".py",
   "mimetype": "text/x-python",
   "name": "python",
   "nbconvert_exporter": "python",
   "pygments_lexer": "ipython3",
   "version": "3.6.3"
  }
 },
 "nbformat": 4,
 "nbformat_minor": 2
}
