{
 "cells": [
  {
   "cell_type": "code",
   "execution_count": 2,
   "metadata": {
    "collapsed": true
   },
   "outputs": [],
   "source": [
    "from sklearn.datasets import load_svmlight_file\n",
    "import numpy as np"
   ]
  },
  {
   "cell_type": "code",
   "execution_count": 3,
   "metadata": {
    "collapsed": true
   },
   "outputs": [],
   "source": [
    "data=load_svmlight_file(r'F:\\\\机器学习实验\\\\australian_scale.txt')"
   ]
  },
  {
   "cell_type": "code",
   "execution_count": 4,
   "metadata": {
    "collapsed": true
   },
   "outputs": [],
   "source": [
    "X=data[0]\n",
    "y=data[1]"
   ]
  },
  {
   "cell_type": "code",
   "execution_count": 5,
   "metadata": {
    "collapsed": true
   },
   "outputs": [],
   "source": [
    "X=X.todense()"
   ]
  },
  {
   "cell_type": "code",
   "execution_count": 6,
   "metadata": {
    "collapsed": true
   },
   "outputs": [],
   "source": [
    "y=np.reshape(y,(690,1))\n",
    "y=np.mat(y)"
   ]
  },
  {
   "cell_type": "code",
   "execution_count": 7,
   "metadata": {
    "collapsed": true
   },
   "outputs": [],
   "source": [
    "from sklearn.model_selection import train_test_split\n",
    "X_train,X_validation,y_train,y_validation=train_test_split(X,y,test_size=0.3,random_state=47)#分割数据集"
   ]
  },
  {
   "cell_type": "code",
   "execution_count": 8,
   "metadata": {},
   "outputs": [
    {
     "data": {
      "text/plain": [
       "(483, 15)"
      ]
     },
     "execution_count": 8,
     "metadata": {},
     "output_type": "execute_result"
    }
   ],
   "source": [
    "n=X_train.shape[0]\n",
    "X_train=np.hstack((X_train,np.ones((n,1))))\n",
    "X_train.shape"
   ]
  },
  {
   "cell_type": "code",
   "execution_count": 9,
   "metadata": {},
   "outputs": [
    {
     "data": {
      "text/plain": [
       "(207, 15)"
      ]
     },
     "execution_count": 9,
     "metadata": {},
     "output_type": "execute_result"
    }
   ],
   "source": [
    "n=X_validation.shape[0]\n",
    "X_validation=np.hstack((X_validation,np.ones((n,1))))\n",
    "X_validation.shape"
   ]
  },
  {
   "cell_type": "code",
   "execution_count": 10,
   "metadata": {
    "collapsed": true
   },
   "outputs": [],
   "source": [
    "def hingeloss(X,w,y):#hinge loss: w+C*sum(max(0,1-y*(x*w+b)))\n",
    "    s=0\n",
    "    for i in range(0,len(w)):\n",
    "        s=s+w[i]**2\n",
    "    return s/2+max(0,1-y*(X*w))"
   ]
  },
  {
   "cell_type": "code",
   "execution_count": 11,
   "metadata": {
    "collapsed": true
   },
   "outputs": [],
   "source": [
    "def loss(X,w,y):#使用误差率作为loss，阈值为0\n",
    "    y_predict=X*w\n",
    "    if(y_predict>=0):\n",
    "        y_predict=1\n",
    "    else:\n",
    "        y_predict=-1\n",
    "    if(y_predict==y):\n",
    "        return 0\n",
    "    else:\n",
    "        return 1"
   ]
  },
  {
   "cell_type": "code",
   "execution_count": 55,
   "metadata": {
    "collapsed": true
   },
   "outputs": [],
   "source": [
    "def gradient(X,w,y):\n",
    "    (n,m)=X.shape\n",
    "    s=np.zeros((m,1))\n",
    "    w[X.shape[1]-1]=0\n",
    "    for j in range(0,n):\n",
    "        if(1-X[j]*w*y[j]>0):\n",
    "            s=s+(X[j].T*y[j])*-1\n",
    "    return s+w"
   ]
  },
  {
   "cell_type": "code",
   "execution_count": 66,
   "metadata": {
    "collapsed": true
   },
   "outputs": [],
   "source": [
    "def train(X_train,X_validation,y_train,y_validation,it,LearningRate):\n",
    "    w=np.ones((X_train.shape[1],1))\n",
    "    loss_train=[]\n",
    "    loss_validation=[]\n",
    "    time=[]\n",
    "    for i in range(0,it):\n",
    "        time.append(i+1)\n",
    "        gra=gradient(X_train,w,y_train)\n",
    "        w=w-LearningRate*gra\n",
    "        err_train=0\n",
    "        err_validation=0\n",
    "        for j in range(0,len(y_train)):\n",
    "            err_train+=hingeloss(X_train[j],w,y_train[j])[0,0]\n",
    "            #err_train+=loss(X_train[j],w,y_train[j])\n",
    "        for j in range(0,len(y_validation)):\n",
    "            err_validation+=hingeloss(X_validation[j],w,y_validation[j])[0,0]\n",
    "            #err_validation+=loss(X_validation[j],w,y_validation[j])\n",
    "        loss_train.append(err_train/len(y_train))\n",
    "        loss_validation.append(err_validation/len(y_validation))\n",
    "    return time,loss_train,loss_validation,w"
   ]
  },
  {
   "cell_type": "code",
   "execution_count": 71,
   "metadata": {},
   "outputs": [],
   "source": [
    "time,loss_train,loss_validation,w=train(X_train,X_validation,y_train,y_validation,10,0.001)"
   ]
  },
  {
   "cell_type": "code",
   "execution_count": 72,
   "metadata": {},
   "outputs": [
    {
     "data": {
      "image/png": "[encoded data removed]",
      "text/plain": [
       "<matplotlib.figure.Figure at 0x385befc550>"
      ]
     },
     "metadata": {},
     "output_type": "display_data"
    }
   ],
   "source": [
    "import matplotlib.pyplot as plt\n",
    "plt.xlabel('times')\n",
    "plt.ylabel('hinge loss')\n",
    "plt.plot(time,loss_train,label='training set')\n",
    "plt.plot(time,loss_validation,label='validation set')\n",
    "plt.legend()\n",
    "plt.show()"
   ]
  },
  {
   "cell_type": "code",
   "execution_count": 73,
   "metadata": {},
   "outputs": [
    {
     "data": {
      "text/plain": [
       "5.116657927424332"
      ]
     },
     "execution_count": 73,
     "metadata": {},
     "output_type": "execute_result"
    }
   ],
   "source": [
    "min(loss_validation)"
   ]
  },
  {
   "cell_type": "code",
   "execution_count": 74,
   "metadata": {},
   "outputs": [
    {
     "data": {
      "text/plain": [
       "5.18740984453422"
      ]
     },
     "execution_count": 74,
     "metadata": {},
     "output_type": "execute_result"
    }
   ],
   "source": [
    "min(loss_train)"
   ]
  },
  {
   "cell_type": "code",
   "execution_count": null,
   "metadata": {
    "collapsed": true
   },
   "outputs": [],
   "source": []
  }
 ],
 "metadata": {
  "kernelspec": {
   "display_name": "Python 3",
   "language": "python",
   "name": "python3"
  }
 },
 "nbformat": 4,
 "nbformat_minor": 2
}
