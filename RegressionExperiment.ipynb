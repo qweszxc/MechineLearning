{
 "cells": [
  {
   "cell_type": "code",
   "execution_count": 1,
   "metadata": {
    "collapsed": true
   },
   "outputs": [],
   "source": [
    "from sklearn.datasets import load_svmlight_file"
   ]
  },
  {
   "cell_type": "code",
   "execution_count": 2,
   "metadata": {
    "collapsed": true
   },
   "outputs": [],
   "source": [
    "import matplotlib.pyplot as plt"
   ]
  },
  {
   "cell_type": "code",
   "execution_count": 3,
   "metadata": {
    "collapsed": true
   },
   "outputs": [],
   "source": [
    "from sklearn.model_selection import train_test_split"
   ]
  },
  {
   "cell_type": "code",
   "execution_count": 4,
   "metadata": {
    "collapsed": true
   },
   "outputs": [],
   "source": [
    "import numpy as np"
   ]
  },
  {
   "cell_type": "code",
   "execution_count": 5,
   "metadata": {
    "collapsed": true
   },
   "outputs": [],
   "source": [
    "data=load_svmlight_file(r'F:\\\\机器学习实验\\\\housing_scale.txt')"
   ]
  },
  {
   "cell_type": "code",
   "execution_count": 6,
   "metadata": {
    "collapsed": true
   },
   "outputs": [],
   "source": [
    "X=data[0]"
   ]
  },
  {
   "cell_type": "code",
   "execution_count": 7,
   "metadata": {
    "collapsed": true
   },
   "outputs": [],
   "source": [
    "y=data[1]"
   ]
  },
  {
   "cell_type": "code",
   "execution_count": 8,
   "metadata": {
    "collapsed": true
   },
   "outputs": [],
   "source": [
    "X=X.todense()"
   ]
  },
  {
   "cell_type": "code",
   "execution_count": 9,
   "metadata": {
    "collapsed": true
   },
   "outputs": [],
   "source": [
    "X_train,X_validation,y_train,y_validation=train_test_split(X,y,test_size=0.25,random_state=42)#分割数据集"
   ]
  },
  {
   "cell_type": "code",
   "execution_count": 10,
   "metadata": {
    "collapsed": true
   },
   "outputs": [],
   "source": [
    "y_train=np.reshape(y_train,(len(y_train),1))\n",
    "y=np.mat(y)"
   ]
  },
  {
   "cell_type": "code",
   "execution_count": 11,
   "metadata": {
    "collapsed": true
   },
   "outputs": [],
   "source": [
    "n=np.shape(X_train)[0]"
   ]
  },
  {
   "cell_type": "code",
   "execution_count": 12,
   "metadata": {
    "collapsed": true
   },
   "outputs": [],
   "source": [
    "X_train=np.hstack((X_train,np.ones((n,1))))"
   ]
  },
  {
   "cell_type": "code",
   "execution_count": 13,
   "metadata": {
    "collapsed": true
   },
   "outputs": [],
   "source": [
    "n=np.shape(X_validation)[0]\n",
    "X_validation=np.hstack((X_validation,np.ones((n,1))))"
   ]
  },
  {
   "cell_type": "code",
   "execution_count": 14,
   "metadata": {
    "collapsed": true
   },
   "outputs": [],
   "source": [
    "m=X_train.shape[1]\n",
    "w=np.zeros((m,1))"
   ]
  },
  {
   "cell_type": "code",
   "execution_count": 15,
   "metadata": {
    "collapsed": true
   },
   "outputs": [],
   "source": [
    "loss_train=[]#训练集误差\n",
    "loss_validation=[]#交叉集误差\n",
    "def loss(X,w,y,lam):#loss函数使用平方差损失函数 sum(x-y)^2/n+lambda*sum(w[i]^2)\n",
    "    y_predict=X*w#预测结果\n",
    "    s=0\n",
    "    for i in range(0,len(y)):\n",
    "        s=s+(y_predict[i]-y[i])**2\n",
    "    reg=0\n",
    "    for i in range(0,len(w)):\n",
    "        reg+=w[i]**2\n",
    "    return (s+lam*reg)/len(y)\n",
    "\n",
    "def gradient(X,w,y,lam):#梯度算法 lam为正则化参数\n",
    "    gra=lam*w+X.T*(X*w-y)\n",
    "    return gra\n"
   ]
  },
  {
   "cell_type": "code",
   "execution_count": 16,
   "metadata": {
    "collapsed": true
   },
   "outputs": [],
   "source": [
    "def train(X_train,y_train,X_validation,y_validation,it,lam,LearningRate):#it为迭代次数,lam为正则化参数\n",
    "    #X维度n*m y维度n*1 n为样本数 m为特征数  X_train,y_train,X_validation,y_validation为分割后的数据集\n",
    "    loss_train=[]#训练集误差\n",
    "    loss_validation=[]#交叉集误差\n",
    "    time=[]#迭代次数\n",
    "    w=np.zeros((X_train.shape[1],1))# w初始化为0 维度m*1\n",
    "    for i in range(0,it):#it次迭代\n",
    "        time.append(i+1)\n",
    "        gra=gradient(X_train,w,y_train,lam)#lambda=0\n",
    "        w=w-LearningRate*gra\n",
    "        l_train=loss(X_train,w,y_train,lam)\n",
    "        l_validation=loss(X_validation,w,y_validation,lam)\n",
    "        loss_train.append(l_train[0,0])\n",
    "        loss_validation.append(l_validation[0,0])\n",
    "    return time,loss_train,loss_validation"
   ]
  },
  {
   "cell_type": "code",
   "execution_count": 133,
   "metadata": {
    "collapsed": true
   },
   "outputs": [],
   "source": [
    "time,l_train,l_validation=train(X_train,y_train,X_validation,y_validation,100,0,0.0005)"
   ]
  },
  {
   "cell_type": "code",
   "execution_count": 134,
   "metadata": {},
   "outputs": [
    {
     "data": {
      "image/png": "[encoded data removed]",
      "text/plain": [
       "<matplotlib.figure.Figure at 0x7c8fd4eb70>"
      ]
     },
     "metadata": {},
     "output_type": "display_data"
    }
   ],
   "source": [
    "plt.xlabel('times')\n",
    "plt.ylabel('loss')\n",
    "plt.plot(time,l_train,label='training set')\n",
    "plt.plot(time,l_validation,label='validation set')\n",
    "plt.legend()\n",
    "plt.show()"
   ]
  },
  {
   "cell_type": "code",
   "execution_count": 135,
   "metadata": {},
   "outputs": [
    {
     "data": {
      "text/plain": [
       "23.267028580865851"
      ]
     },
     "execution_count": 135,
     "metadata": {},
     "output_type": "execute_result"
    }
   ],
   "source": [
    "min(l_train)"
   ]
  },
  {
   "cell_type": "code",
   "execution_count": 136,
   "metadata": {},
   "outputs": [
    {
     "data": {
      "text/plain": [
       "23.753491557987342"
      ]
     },
     "execution_count": 136,
     "metadata": {},
     "output_type": "execute_result"
    }
   ],
   "source": [
    "min(l_validation)"
   ]
  },
  {
   "cell_type": "code",
   "execution_count": null,
   "metadata": {
    "collapsed": true
   },
   "outputs": [],
   "source": []
  }
 ],
 "metadata": {
  "kernelspec": {
   "display_name": "Python 3",
   "language": "python",
   "name": "python3"
  },
  "language_info": {
   "codemirror_mode": {
    "name": "ipython",
    "version": 3
   },
   "file_extension": ".py",
   "mimetype": "text/x-python",
   "name": "python",
   "nbconvert_exporter": "python",
   "pygments_lexer": "ipython3",
   "version": "3.6.3"
  }
 },
 "nbformat": 4,
 "nbformat_minor": 2
}
